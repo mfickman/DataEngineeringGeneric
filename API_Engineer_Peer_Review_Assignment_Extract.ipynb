{
 "cells": [
  {
   "cell_type": "markdown",
   "metadata": {},
   "source": [
    "<p style=\"text-align:center\">\n",
    "    <a href=\"https://skills.network/?utm_medium=Exinfluencer&utm_source=Exinfluencer&utm_content=000026UJ&utm_term=10006555&utm_id=NA-SkillsNetwork-Channel-SkillsNetworkCoursesIBMDeveloperSkillsNetworkPY0221ENSkillsNetwork23455645-2022-01-01\" target=\"_blank\">\n",
    "    <img src=\"https://cf-courses-data.s3.us.cloud-object-storage.appdomain.cloud/assets/logos/SN_web_lightmode.png\" width=\"200\" alt=\"Skills Network Logo\"  />\n",
    "    </a>\n",
    "</p>\n"
   ]
  },
  {
   "cell_type": "markdown",
   "metadata": {},
   "source": [
    "# Peer Review Assignment - Data Engineer - Extract API Data\n"
   ]
  },
  {
   "cell_type": "markdown",
   "metadata": {},
   "source": [
    "Estimated time needed: **20** minutes\n"
   ]
  },
  {
   "cell_type": "markdown",
   "metadata": {},
   "source": [
    "## Objectives\n",
    "\n",
    "In this part you will:\n",
    "\n",
    "*   Collect exchange rate data using an API\n",
    "*   Store the data as a CSV\n"
   ]
  },
  {
   "cell_type": "markdown",
   "metadata": {},
   "source": [
    "For this lab, we are going to be using Python and several Python libraries. Some of these libraries might be installed in your lab environment or in SN Labs. Others may need to be installed by you. The cells below will install these libraries when executed.\n"
   ]
  },
  {
   "cell_type": "code",
   "execution_count": 1,
   "metadata": {},
   "outputs": [],
   "source": [
    "#!mamba install pandas==1.3.3 -y\n",
    "#!mamba install requests==2.26.0 -y"
   ]
  },
  {
   "cell_type": "markdown",
   "metadata": {},
   "source": [
    "## Imports\n",
    "\n",
    "Import any additional libraries you may need here.\n"
   ]
  },
  {
   "cell_type": "code",
   "execution_count": 2,
   "metadata": {},
   "outputs": [],
   "source": [
    "import requests\n",
    "import pandas as pd"
   ]
  },
  {
   "cell_type": "markdown",
   "metadata": {},
   "source": [
    "## Extract Data Using an API\n"
   ]
  },
  {
   "cell_type": "markdown",
   "metadata": {},
   "source": [
    "Using ExchangeRate-API we will extract currency exchange rate data. Use the below steps to get the access key and to get the data.\n",
    "\n",
    "1.  Open the url : [https://exchangeratesapi.io/](https://exchangeratesapi.io/?utm_medium=Exinfluencer&utm_source=Exinfluencer&utm_content=000026UJ&utm_term=10006555&utm_id=NA-SkillsNetwork-Channel-SkillsNetworkCoursesIBMDeveloperSkillsNetworkPY0221ENSkillsNetwork23455645-2022-01-01) and click on **Get Free API Key**.\n",
    "2.  Subscribe for Free plan and Sign-in with the Google Account.\n",
    "3.  Once the account is created you will be redirected to [https://apilayer.com](https://apilayer.com/?utm_medium=Exinfluencer&utm_source=Exinfluencer&utm_content=000026UJ&utm_term=10006555&utm_id=NA-SkillsNetwork-Channel-SkillsNetworkCoursesIBMDeveloperSkillsNetworkPY0221ENSkillsNetwork23455645-2022-01-01) website.\n",
    "4.  Now, click on the **user icon** and click **Account** as shown below:\n",
    "\n",
    "<img src=\"https://cf-courses-data.s3.us.cloud-object-storage.appdomain.cloud/IBMDeveloperSkillsNetwork-PY0221EN-SkillsNetwork/labs/module%206/Final%20Assignment/Images/account.png\"/>\n",
    "\n",
    "3.  Scroll down and you will get the API Key section. Copy the API key and use in the url in Question 1.\n"
   ]
  },
  {
   "cell_type": "markdown",
   "metadata": {},
   "source": [
    "### Call the API\n",
    "\n",
    "<b> Question 1</b> Using the `requests` library call the endpoint given above and save the text, remember the first few characters of the output:\n"
   ]
  },
  {
   "cell_type": "code",
   "execution_count": 22,
   "metadata": {},
   "outputs": [
    {
     "data": {
      "text/plain": [
       "'{\\n    \"success\": true,\\n    \"timestamp\": 1663189804,\\n    \"base\": \"EUR\",\\n    \"date\": \"2022-09-14\",\\n    \"rates\": {\\n        \"AED\": 3.6646,\\n        \"AFN\": 88.793552,\\n        \"ALL\": 116.836412,\\n        \"AMD\": 405.788188,\\n        \"ANG\": 1.798104,\\n        \"AOA\": 430.252718,\\n        \"ARS\": 142.537151,\\n        \"AUD\": 1.47852,\\n        \"AWG\": 1.795833,\\n        \"AZN\": 1.69359,\\n        \"BAM\": 1.949762,\\n        \"BBD\": 1.999019,\\n        \"BDT\": 103.715662,\\n        \"BGN\": 1.957174,\\n        \"BHD\": 0.376104,\\n        \"BIF\": 2039.268679,\\n        \"BMD\": 0.997685,\\n        \"BND\": 1.40047,\\n        \"BOB\": 6.889399,\\n        \"BRL\": 5.152444,\\n        \"BSD\": 0.997715,\\n        \"BTC\": 5.0123893e-05,\\n        \"BTN\": 79.278479,\\n        \"BWP\": 12.974484,\\n        \"BYN\": 2.518363,\\n        \"BYR\": 19554.631166,\\n        \"BZD\": 2.000415,\\n        \"CAD\": 1.313338,\\n        \"CDF\": 2036.275458,\\n        \"CHF\": 0.959675,\\n        \"CLF\": 0.033281,\\n        \"CLP\": 918.31925,\\n        \"CNY\": 6.945888,\\n        \"COP\": 4382.33252,\\n        \"CRC\": 629.593364,\\n        \"CUC\": 0.997685,\\n        \"CUP\": 26.438659,\\n        \"CVE\": 110.468682,\\n        \"CZK\": 24.472517,\\n        \"DJF\": 177.308377,\\n        \"DKK\": 7.436348,\\n        \"DOP\": 53.3981,\\n        \"DZD\": 140.542919,\\n        \"EGP\": 19.32492,\\n        \"ERN\": 14.965279,\\n        \"ETB\": 52.690415,\\n        \"EUR\": 1,\\n        \"FJD\": 2.235563,\\n        \"FKP\": 0.862595,\\n        \"GBP\": 0.864396,\\n        \"GEL\": 2.813254,\\n        \"GGP\": 0.862595,\\n        \"GHS\": 10.074449,\\n        \"GIP\": 0.862595,\\n        \"GMD\": 54.370641,\\n        \"GNF\": 8628.747857,\\n        \"GTQ\": 7.777509,\\n        \"GYD\": 208.704707,\\n        \"HKD\": 7.830682,\\n        \"HNL\": 24.609404,\\n        \"HRK\": 7.521051,\\n        \"HTG\": 117.730629,\\n        \"HUF\": 405.50889,\\n        \"IDR\": 14875.986122,\\n        \"ILS\": 3.417561,\\n        \"IMP\": 0.862595,\\n        \"INR\": 79.267593,\\n        \"IQD\": 1456.280039,\\n        \"IRR\": 42202.087009,\\n        \"ISK\": 139.287011,\\n        \"JEP\": 0.862595,\\n        \"JMD\": 151.915294,\\n        \"JOD\": 0.707363,\\n        \"JPY\": 142.822664,\\n        \"KES\": 120.125404,\\n        \"KGS\": 81.543306,\\n        \"KHR\": 4119.762135,\\n        \"KMF\": 484.5508,\\n        \"KPW\": 897.916782,\\n        \"KRW\": 1388.259317,\\n        \"KWD\": 0.307784,\\n        \"KYD\": 0.831429,\\n        \"KZT\": 472.370013,\\n        \"LAK\": 15711.820726,\\n        \"LBP\": 1508.137001,\\n        \"LKR\": 364.173514,\\n        \"LRD\": 153.593864,\\n        \"LSL\": 17.062781,\\n        \"LTL\": 2.945905,\\n        \"LVL\": 0.603489,\\n        \"LYD\": 4.912114,\\n        \"MAD\": 10.718146,\\n        \"MDL\": 19.307117,\\n        \"MGA\": 4205.457175,\\n        \"MKD\": 61.582919,\\n        \"MMK\": 2095.243929,\\n        \"MNT\": 3216.978323,\\n        \"MOP\": 8.065263,\\n        \"MRO\": 356.173467,\\n        \"MUR\": 45.043691,\\n        \"MVR\": 15.474207,\\n        \"MWK\": 1026.779308,\\n        \"MXN\": 19.914594,\\n        \"MYR\": 4.5165,\\n        \"MZN\": 63.682113,\\n        \"NAD\": 17.063083,\\n        \"NGN\": 427.318487,\\n        \"NIO\": 35.85813,\\n        \"NOK\": 10.066895,\\n        \"NPR\": 126.845806,\\n        \"NZD\": 1.662255,\\n        \"OMR\": 0.384124,\\n        \"PAB\": 0.997715,\\n        \"PEN\": 3.834853,\\n        \"PGK\": 3.51563,\\n        \"PHP\": 56.977791,\\n        \"PKR\": 233.707743,\\n        \"PLN\": 4.714215,\\n        \"PYG\": 6930.493789,\\n        \"QAR\": 3.632548,\\n        \"RON\": 4.92507,\\n        \"RSD\": 117.342715,\\n        \"RUB\": 59.586779,\\n        \"RWF\": 1035.098461,\\n        \"SAR\": 3.751411,\\n        \"SBD\": 8.181212,\\n        \"SCR\": 13.176475,\\n        \"SDG\": 575.165446,\\n        \"SEK\": 10.656785,\\n        \"SGD\": 1.402841,\\n        \"SHP\": 1.374209,\\n        \"SLL\": 14441.494055,\\n        \"SOS\": 567.182047,\\n        \"SRD\": 26.985889,\\n        \"STD\": 20650.070637,\\n        \"SVC\": 8.730008,\\n        \"SYP\": 2506.714472,\\n        \"SZL\": 17.348213,\\n        \"THB\": 36.505151,\\n        \"TJS\": 10.101864,\\n        \"TMT\": 3.491898,\\n        \"TND\": 3.226516,\\n        \"TOP\": 2.355086,\\n        \"TRY\": 18.212548,\\n        \"TTD\": 6.772361,\\n        \"TWD\": 31.027413,\\n        \"TZS\": 2324.606416,\\n        \"UAH\": 36.847732,\\n        \"UGX\": 3805.633387,\\n        \"USD\": 0.997685,\\n        \"UYU\": 40.630745,\\n        \"UZS\": 10915.900376,\\n        \"VND\": 23545.37222,\\n        \"VUV\": 118.686512,\\n        \"WST\": 2.719269,\\n        \"XAF\": 653.941637,\\n        \"XAG\": 0.050809,\\n        \"XAU\": 0.000588,\\n        \"XCD\": 2.696295,\\n        \"XDR\": 0.763547,\\n        \"XOF\": 656.476765,\\n        \"XPF\": 119.771941,\\n        \"YER\": 249.671031,\\n        \"ZAR\": 17.438839,\\n        \"ZMK\": 8980.364257,\\n        \"ZMW\": 15.51483,\\n        \"ZWL\": 321.254248\\n    }\\n}\\n'"
      ]
     },
     "execution_count": 22,
     "metadata": {},
     "output_type": "execute_result"
    }
   ],
   "source": [
    "# Write your code here\n",
    "url = \"https://api.apilayer.com/exchangerates_data/latest?base=EUR&apikey=KhRLG9be6yTDQrtDX82FyBZ8Y0L2GV4P\"\n",
    "urlData = requests.get(url).text\n",
    "urlData"
   ]
  },
  {
   "cell_type": "markdown",
   "metadata": {},
   "source": [
    "### Save as DataFrame\n",
    "\n",
    "<b> Question 2</b>  Using the data gathered turn it into a `pandas` dataframe. The dataframe should have the Currency as the index and `Rate` as their columns. Make sure to drop unnecessary columns.\n"
   ]
  },
  {
   "cell_type": "code",
   "execution_count": 39,
   "metadata": {},
   "outputs": [
    {
     "data": {
      "text/html": [
       "<div>\n",
       "<style scoped>\n",
       "    .dataframe tbody tr th:only-of-type {\n",
       "        vertical-align: middle;\n",
       "    }\n",
       "\n",
       "    .dataframe tbody tr th {\n",
       "        vertical-align: top;\n",
       "    }\n",
       "\n",
       "    .dataframe thead th {\n",
       "        text-align: right;\n",
       "    }\n",
       "</style>\n",
       "<table border=\"1\" class=\"dataframe\">\n",
       "  <thead>\n",
       "    <tr style=\"text-align: right;\">\n",
       "      <th></th>\n",
       "      <th>Rate</th>\n",
       "    </tr>\n",
       "  </thead>\n",
       "  <tbody>\n",
       "    <tr>\n",
       "      <th>AED</th>\n",
       "      <td>3.664600</td>\n",
       "    </tr>\n",
       "    <tr>\n",
       "      <th>AFN</th>\n",
       "      <td>88.793552</td>\n",
       "    </tr>\n",
       "    <tr>\n",
       "      <th>ALL</th>\n",
       "      <td>116.836412</td>\n",
       "    </tr>\n",
       "    <tr>\n",
       "      <th>AMD</th>\n",
       "      <td>405.788188</td>\n",
       "    </tr>\n",
       "    <tr>\n",
       "      <th>ANG</th>\n",
       "      <td>1.798104</td>\n",
       "    </tr>\n",
       "    <tr>\n",
       "      <th>...</th>\n",
       "      <td>...</td>\n",
       "    </tr>\n",
       "    <tr>\n",
       "      <th>YER</th>\n",
       "      <td>249.671031</td>\n",
       "    </tr>\n",
       "    <tr>\n",
       "      <th>ZAR</th>\n",
       "      <td>17.438839</td>\n",
       "    </tr>\n",
       "    <tr>\n",
       "      <th>ZMK</th>\n",
       "      <td>8980.364257</td>\n",
       "    </tr>\n",
       "    <tr>\n",
       "      <th>ZMW</th>\n",
       "      <td>15.514830</td>\n",
       "    </tr>\n",
       "    <tr>\n",
       "      <th>ZWL</th>\n",
       "      <td>321.254248</td>\n",
       "    </tr>\n",
       "  </tbody>\n",
       "</table>\n",
       "<p>167 rows × 1 columns</p>\n",
       "</div>"
      ],
      "text/plain": [
       "            Rate\n",
       "AED     3.664600\n",
       "AFN    88.793552\n",
       "ALL   116.836412\n",
       "AMD   405.788188\n",
       "ANG     1.798104\n",
       "..           ...\n",
       "YER   249.671031\n",
       "ZAR    17.438839\n",
       "ZMK  8980.364257\n",
       "ZMW    15.514830\n",
       "ZWL   321.254248\n",
       "\n",
       "[167 rows x 1 columns]"
      ]
     },
     "execution_count": 39,
     "metadata": {},
     "output_type": "execute_result"
    }
   ],
   "source": [
    "# Turn the data into a dataframe\n",
    "import json\n",
    "test = urlData.find(\"rates\") + 8\n",
    "urlData[test:-3]\n",
    "dictData = json.loads(urlData[test:-3])\n",
    "df_data = pd.DataFrame.from_dict(dictData, orient='index', dtype=None, columns=['Rate'])\n",
    "df_data"
   ]
  },
  {
   "cell_type": "code",
   "execution_count": 40,
   "metadata": {},
   "outputs": [
    {
     "name": "stdout",
     "output_type": "stream",
     "text": [
      "done in previous step\n"
     ]
    }
   ],
   "source": [
    "# Drop unnescessary columns\n",
    "print('done in previous step')"
   ]
  },
  {
   "cell_type": "markdown",
   "metadata": {},
   "source": [
    "### Load the Data\n",
    "\n",
    "Using the dataframe save it as a CSV names `exchange_rates_1.csv`.\n"
   ]
  },
  {
   "cell_type": "code",
   "execution_count": 41,
   "metadata": {},
   "outputs": [],
   "source": [
    "# Save the Dataframe\n",
    "df_data.to_csv('exchange_rates_1.csv')"
   ]
  },
  {
   "cell_type": "markdown",
   "metadata": {},
   "source": [
    "Your CSV should be in this format with more currencies\n",
    "\n",
    "|     | Rates      |\n",
    "| --- | ---------- |\n",
    "| AED | 4.398618   |\n",
    "| AFN | 92.917693  |\n",
    "| ALL | 123.099093 |\n",
    "| AMD | 621.935674 |\n",
    "| ANG | 2.149648   |\n"
   ]
  },
  {
   "cell_type": "markdown",
   "metadata": {},
   "source": [
    "## Authors\n"
   ]
  },
  {
   "cell_type": "markdown",
   "metadata": {},
   "source": [
    "Ramesh Sannareddy, Joseph Santarcangelo and Azim Hirjani\n"
   ]
  },
  {
   "cell_type": "markdown",
   "metadata": {},
   "source": [
    "### Other Contributors\n"
   ]
  },
  {
   "cell_type": "markdown",
   "metadata": {},
   "source": [
    "Rav Ahuja\n"
   ]
  },
  {
   "cell_type": "markdown",
   "metadata": {},
   "source": [
    "## Change Log\n"
   ]
  },
  {
   "cell_type": "markdown",
   "metadata": {},
   "source": [
    "| Date (YYYY-MM-DD) | Version | Changed By        | Change Description                              |\n",
    "| ----------------- | ------- | ----------------- | ----------------------------------------------- |\n",
    "| 2022-05-06        | 0.3     | Malika            | Updated instructions to get the API and the url |\n",
    "| 2021-04-15        | 0.2     | Malika            | Updated the lab from USD to EUR                 |\n",
    "| 2020-11-25        | 0.1     | Ramesh Sannareddy | Created initial version of the lab              |\n"
   ]
  },
  {
   "cell_type": "markdown",
   "metadata": {},
   "source": [
    "Copyright © 2020 IBM Corporation. This notebook and its source code are released under the terms of the [MIT License](https://cognitiveclass.ai/mit-license?utm_medium=Exinfluencer&utm_source=Exinfluencer&utm_content=000026UJ&utm_term=10006555&utm_id=NA-SkillsNetwork-Channel-SkillsNetworkCoursesIBMDeveloperSkillsNetworkPY0221ENSkillsNetwork23455645-2022-01-01&cm_mmc=Email_Newsletter-\\_-Developer_Ed%2BTech-\\_-WW_WW-\\_-SkillsNetwork-Courses-IBM-DA0321EN-SkillsNetwork-21426264&cm_mmca1=000026UJ&cm_mmca2=10006555&cm_mmca3=M12345678&cvosrc=email.Newsletter.M12345678&cvo_campaign=000026UJ).\n"
   ]
  }
 ],
 "metadata": {
  "kernelspec": {
   "display_name": "Python",
   "language": "python",
   "name": "conda-env-python-py"
  },
  "language_info": {
   "codemirror_mode": {
    "name": "ipython",
    "version": 3
   },
   "file_extension": ".py",
   "mimetype": "text/x-python",
   "name": "python",
   "nbconvert_exporter": "python",
   "pygments_lexer": "ipython3",
   "version": "3.7.12"
  }
 },
 "nbformat": 4,
 "nbformat_minor": 4
}
